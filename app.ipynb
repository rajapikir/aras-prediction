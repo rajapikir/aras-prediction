{
 "cells": [
  {
   "cell_type": "markdown",
   "metadata": {},
   "source": [
    "## Install Aplikasi"
   ]
  },
  {
   "cell_type": "code",
   "execution_count": null,
   "metadata": {},
   "outputs": [],
   "source": [
    "import sys\n",
    "from IPython.display import clear_output \n",
    "!{sys.executable} -m pip install scikit-learn==1.2.0 ipywidgets==8.0.2 pandas==1.5.0 requests\n",
    "clear_output(wait=5)\n",
    "print(\"Dependencies Installed!\")"
   ]
  },
  {
   "cell_type": "markdown",
   "metadata": {},
   "source": [
    "## Download Model Terbaru"
   ]
  },
  {
   "cell_type": "code",
   "execution_count": null,
   "metadata": {},
   "outputs": [],
   "source": [
    "# Download Model\n",
    "import os\n",
    "import os.path\n",
    "import requests\n",
    "import json\n",
    "from urllib.parse import urljoin\n",
    "\n",
    "model_dir = \"./model\"\n",
    "url = \"https://oclab.github.io/aras-prediction/list.json\"\n",
    "\n",
    "if not os.path.exists(model_dir):\n",
    "    os.mkdir(model_dir)\n",
    "\n",
    "models = json.loads(requests.get(url).content)\n",
    "with open(\"list.json\", \"w\") as file:\n",
    "    file.write(json.dumps(models, indent=2))\n",
    "\n",
    "for key in models.keys():\n",
    "    with open(models[key], \"wb\") as file:\n",
    "        file.write(requests.get(urljoin(url, models[key])).content)\n",
    "        print(\"Download:\", key)"
   ]
  },
  {
   "cell_type": "code",
   "execution_count": null,
   "metadata": {},
   "outputs": [],
   "source": [
    "import pickle\n",
    "import pandas as pd\n",
    "from ipywidgets import interact, widgets\n",
    "import json\n",
    "import random\n",
    "\n",
    "# Fungsi untuk memuat model dari file .pkl\n",
    "def load_model_from_pkl(file_path):\n",
    "    with open(file_path, 'rb') as file:\n",
    "        model = pickle.load(file)\n",
    "    return model\n",
    "\n",
    "# Fungsi untuk melakukan prediksi pada dataset baru\n",
    "def predict_new_data(model, new_data, feature_names):\n",
    "    # Lakukan preprocessing pada new_data jika diperlukan\n",
    "    # ...\n",
    "    # Pastikan kolom sesuai dengan feature_names yang diberikan\n",
    "    new_data = new_data[feature_names]\n",
    "    # Lakukan prediksi menggunakan model\n",
    "    predictions = model.predict(new_data)\n",
    "    return predictions\n",
    "\n",
    "# Nama file .pkl yang berisi model\n",
    "with open(\"list.json\", \"r\") as file:\n",
    "    model_file_paths = json.loads(file.read())\n",
    "# Memuat model dari file .pkl\n",
    "models = {}\n",
    "for model_name, model_path in model_file_paths.items():\n",
    "    try:\n",
    "        model = load_model_from_pkl(model_path)\n",
    "        models[model_name] = model\n",
    "        print(f\"Model '{model_name}' berhasil dimuat.\")\n",
    "    except FileNotFoundError:\n",
    "        print(f\"File '{model_path}' tidak ditemukan.\")\n",
    "    except Exception as e:\n",
    "        print(f\"Terjadi kesalahan saat memuat model '{model_name}':\", str(e))\n",
    "\n",
    "# Fungsi untuk melakukan prediksi dengan model yang dipilih dan data yang dimasukkan oleh pengguna\n",
    "def predict_with_user_input(model_name, **kwargs):\n",
    "    if model_name not in models:\n",
    "        print(f\"Model '{model_name}' tidak ditemukan.\")\n",
    "        return\n",
    "\n",
    "    # Ubah input fitur yang diberikan pengguna menjadi dataframe\n",
    "    new_data = pd.DataFrame([kwargs.values()], columns=kwargs.keys())\n",
    "\n",
    "    # Pastikan kolom sesuai dengan feature_names yang diberikan\n",
    "    feature_names = [f'fitur - {i}' for i in range(1, 26)]\n",
    "\n",
    "    # Lakukan prediksi pada data baru dengan model yang dipilih\n",
    "    try:\n",
    "        predictions = predict_new_data(models[model_name], new_data, feature_names)\n",
    "        print(\"Hasil prediksi:\")\n",
    "        if predictions == 1:\n",
    "            print (\"anda belum lulus\")\n",
    "        else:\n",
    "            print (\"selamat anda lulus")\n",
    "    except Exception as e:\n",
    "        print(\"Terjadi kesalahan saat melakukan prediksi:\", str(e))\n",
    "\n",
    "# Buat dropdown untuk memilih model\n",
    "model_dropdown = widgets.Dropdown(\n",
    "    options=list(models.keys()),\n",
    "    description='Pilih Model:'\n",
    ")\n",
    "\n",
    "# Buat input fields untuk fitur-fitur menggunakan widgets.FloatText\n",
    "fitur_widgets = {}\n",
    "for i in range(1, 26):\n",
    "    fitur_widgets[f'fitur - {i}'] = widgets.FloatText(description=f'Nilai Ke-{i}:')\n",
    "\n",
    "# Panggil fungsi predict_with_user_input dengan model yang dipilih dan input dari pengguna\n",
    "app = interact(predict_with_user_input, model_name=model_dropdown, **fitur_widgets)\n"
   ]
  }
 ],
 "metadata": {
  "kernelspec": {
   "display_name": "Python 3",
   "language": "python",
   "name": "python3"
  },
  "language_info": {
   "codemirror_mode": {
    "name": "ipython",
    "version": 3
   },
   "file_extension": ".py",
   "mimetype": "text/x-python",
   "name": "python",
   "nbconvert_exporter": "python",
   "pygments_lexer": "ipython3",
   "version": "3.11.2"
  },
  "orig_nbformat": 4
 },
 "nbformat": 4,
 "nbformat_minor": 2
}
